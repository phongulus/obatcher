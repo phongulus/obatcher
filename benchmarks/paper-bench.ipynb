{
 "cells": [
  {
   "cell_type": "code",
   "execution_count": null,
   "metadata": {},
   "outputs": [],
   "source": [
    "# Prerequisites\n",
    "import pandas as pd\n",
    "import matplotlib.pyplot as plt\n",
    "from tqdm.notebook import tqdm\n",
    "from importlib import reload\n",
    "import utils\n",
    "reload(utils)\n",
    "\n",
    "# Set the range of domains for which you want to run the benchmarks\n",
    "domains = range(1, 17)\n",
    "\n",
    "build_results = utils.build_results_seq_opt\n",
    "plot_results = utils.plot_results\n",
    "plot_throughput_results = utils.plot_throughput_results"
   ]
  },
  {
   "cell_type": "markdown",
   "metadata": {},
   "source": [
    "## Split-join functor"
   ]
  },
  {
   "cell_type": "markdown",
   "metadata": {},
   "source": [
    "### AVL tree"
   ]
  },
  {
   "cell_type": "code",
   "execution_count": null,
   "metadata": {},
   "outputs": [],
   "source": [
    "avl_insert_only_results = build_results([\"avltree-batched\", \"avltree-coarse-grained\"], {\n",
    "    'count': 1_000_000,\n",
    "    'init_count': 2_000_000,\n",
    "    'no_searches': 0,\n",
    "    'no_iters':5\n",
    "    }, sequential=\"avltree-sequential\", values=domains)\n",
    "\n",
    "plot_results('domains', [\"avltree-sequential\",\"avltree-batched\", \"avltree-coarse-grained\"], avl_insert_only_results, title=\"AVL tree insert-only performance, time over domains\")\n",
    "plot_throughput_results('domains', [\"avltree-sequential\",\"avltree-batched\", \"avltree-coarse-grained\"], avl_insert_only_results, title=\"AVL tree insert-only performance, throughput over domains\")\n",
    "df = pd.DataFrame.from_records(avl_insert_only_results, index=\"domains\")\n",
    "df.to_csv(\"avl_insert_only_results.csv\")"
   ]
  },
  {
   "cell_type": "code",
   "execution_count": null,
   "metadata": {},
   "outputs": [],
   "source": [
    "avl_search_only_results = build_results([\"avltree-batched\", \"avltree-coarse-grained\"], {\n",
    "    'count': 0,\n",
    "    'init_count': 2_000_000,\n",
    "    'no_searches': 1_000_000,\n",
    "    'no_iters':5\n",
    "    }, sequential=\"avltree-sequential\", values=domains)\n",
    "\n",
    "plot_results('domains', [\"avltree-sequential\",\"avltree-batched\", \"avltree-coarse-grained\"], avl_search_only_results, title=\"AVL tree search-only performance, time over domains\")\n",
    "plot_throughput_results('domains', [\"avltree-sequential\",\"avltree-batched\", \"avltree-coarse-grained\"], avl_search_only_results, title=\"AVL tree search-only performance, throughput over domains\")\n",
    "df = pd.DataFrame.from_records(avl_search_only_results, index=\"domains\")\n",
    "df.to_csv(\"avl_search_only_results.csv\")"
   ]
  },
  {
   "cell_type": "code",
   "execution_count": null,
   "metadata": {},
   "outputs": [],
   "source": [
    "avl_90_10_results = build_results([\"avltree-batched\", \"avltree-coarse-grained\"], {\n",
    "    'count': 100_000,\n",
    "    'init_count': 2_000_000,\n",
    "    'no_searches': 900_000,\n",
    "    'no_iters':5\n",
    "    }, sequential=\"avltree-sequential\", values=domains)\n",
    "\n",
    "plot_results('domains', [\"avltree-sequential\",\"avltree-batched\", \"avltree-coarse-grained\"], avl_90_10_results, title=\"AVL tree 90/10 searches/inserts performance, time over domains\")\n",
    "plot_throughput_results('domains', [\"avltree-sequential\",\"avltree-batched\", \"avltree-coarse-grained\"], avl_90_10_results, title=\"AVL tree 90/10 searches/inserts performance, throughput over domains\")\n",
    "df = pd.DataFrame.from_records(avl_90_10_results, index=\"domains\")\n",
    "df.to_csv(\"avl_90_10_results.csv\")"
   ]
  },
  {
   "cell_type": "code",
   "execution_count": null,
   "metadata": {},
   "outputs": [],
   "source": [
    "avl_50_50_results = build_results([\"avltree-batched\", \"avltree-coarse-grained\"], {\n",
    "    'count': 500_000,\n",
    "    'init_count': 2_000_000,\n",
    "    'no_searches': 500_000,\n",
    "    'no_iters':5\n",
    "    }, sequential=\"avltree-sequential\", values=domains)\n",
    "\n",
    "plot_results('domains', [\"avltree-sequential\",\"avltree-batched\", \"avltree-coarse-grained\"], avl_50_50_results, title=\"AVL tree 50/50 searches/inserts performance, time over domains\")\n",
    "plot_throughput_results('domains', [\"avltree-sequential\",\"avltree-batched\", \"avltree-coarse-grained\"], avl_50_50_results, title=\"AVL tree 50/50 searches/inserts performance, throughput over domains\")\n",
    "df = pd.DataFrame.from_records(avl_50_50_results, index=\"domains\")\n",
    "df.to_csv(\"avl_50_50_results.csv\")"
   ]
  },
  {
   "cell_type": "markdown",
   "metadata": {},
   "source": [
    "### Red-Black tree"
   ]
  },
  {
   "cell_type": "code",
   "execution_count": null,
   "metadata": {},
   "outputs": [],
   "source": [
    "rb_insert_only_results = build_results([\"rbtree-batched\", \"rbtree-coarse-grained\"], {\n",
    "    'count': 1_000_000,\n",
    "    'init_count': 2_000_000,\n",
    "    'no_searches': 0,\n",
    "    'no_iters':5\n",
    "    }, sequential=\"rbtree-sequential\", values=domains)\n",
    "\n",
    "plot_results('domains', [\"rbtree-sequential\",\"rbtree-batched\", \"rbtree-coarse-grained\"], rb_insert_only_results, title=\"Red-Black tree insert-only performance, time over domains\")\n",
    "plot_throughput_results('domains', [\"rbtree-sequential\",\"rbtree-batched\", \"rbtree-coarse-grained\"], rb_insert_only_results, title=\"Red-Black tree insert-only performance, throughput over domains\")\n",
    "df = pd.DataFrame.from_records(rb_insert_only_results, index=\"domains\")\n",
    "df.to_csv(\"rb_insert_only_results.csv\")"
   ]
  },
  {
   "cell_type": "code",
   "execution_count": null,
   "metadata": {},
   "outputs": [],
   "source": [
    "rb_search_only_results = build_results([\"rbtree-batched\", \"rbtree-coarse-grained\"], {\n",
    "    'count': 0,\n",
    "    'init_count': 2_000_000,\n",
    "    'no_searches': 1_000_000,\n",
    "    'no_iters':5\n",
    "    }, sequential=\"rbtree-sequential\", values=domains)\n",
    "\n",
    "plot_results('domains', [\"rbtree-sequential\",\"rbtree-batched\", \"rbtree-coarse-grained\"], rb_search_only_results, title=\"Red-Black Tree search-only performance, time over domains\")\n",
    "plot_throughput_results('domains', [\"rbtree-sequential\",\"rbtree-batched\", \"rbtree-coarse-grained\"], rb_search_only_results, title=\"Red-Black Tree search-only performance, throughput over domains\")\n",
    "df = pd.DataFrame.from_records(rb_search_only_results, index=\"domains\")\n",
    "df.to_csv(\"rb_search_only_results.csv\")"
   ]
  },
  {
   "cell_type": "code",
   "execution_count": null,
   "metadata": {},
   "outputs": [],
   "source": [
    "rb_90_10_results = build_results([\"rbtree-batched\", \"rbtree-coarse-grained\"], {\n",
    "    'count': 100_000,\n",
    "    'init_count': 2_000_000,\n",
    "    'no_searches': 900_000,\n",
    "    'no_iters':5\n",
    "    }, sequential=\"rbtree-sequential\", values=domains)\n",
    "\n",
    "plot_results('domains', [\"rbtree-sequential\",\"rbtree-batched\", \"rbtree-coarse-grained\"], rb_90_10_results, title=\"Red-Black Tree 90/10 searches/inserts performance, time over domains\")\n",
    "plot_throughput_results('domains', [\"rbtree-sequential\",\"rbtree-batched\", \"rbtree-coarse-grained\"], rb_90_10_results, title=\"Red-Black Tree 90/10 searches/inserts performance, throughput over domains\")\n",
    "df = pd.DataFrame.from_records(rb_90_10_results, index=\"domains\")\n",
    "df.to_csv(\"rb_90_10_results.csv\")"
   ]
  },
  {
   "cell_type": "code",
   "execution_count": null,
   "metadata": {},
   "outputs": [],
   "source": [
    "rb_50_50_results = build_results([\"rbtree-batched\", \"rbtree-coarse-grained\"], {\n",
    "    'count': 500_000,\n",
    "    'init_count': 2_000_000,\n",
    "    'no_searches': 500_000,\n",
    "    'no_iters':5\n",
    "    }, sequential=\"rbtree-sequential\", values=domains)\n",
    "\n",
    "plot_results('domains', [\"rbtree-sequential\",\"rbtree-batched\", \"rbtree-coarse-grained\"], rb_50_50_results, title= \"Red-Black Tree 50/50 searches/inserts performance, time over domains\")\n",
    "plot_throughput_results('domains', [\"rbtree-sequential\",\"rbtree-batched\", \"rbtree-coarse-grained\"], rb_50_50_results, title= \"Red-Black Tree 50/50 searches/inserts performance, throughput over domains\")\n",
    "df = pd.DataFrame.from_records(rb_50_50_results, index=\"domains\")\n",
    "df.to_csv(\"rb_50_50_results.csv\")"
   ]
  },
  {
   "cell_type": "markdown",
   "metadata": {},
   "source": [
    "### Treap"
   ]
  },
  {
   "cell_type": "code",
   "execution_count": null,
   "metadata": {},
   "outputs": [],
   "source": [
    "treap_insert_only_results = build_results([\"treap-batched\", \"treap-coarse-grained\"], {\n",
    "    'count': 1_000_000,\n",
    "    'init_count': 2_000_000,\n",
    "    'no_searches': 0,\n",
    "    'no_iters':5\n",
    "    }, sequential=\"treap-sequential\", values=domains)\n",
    "\n",
    "plot_results('domains', [\"treap-sequential\",\"treap-batched\", \"treap-coarse-grained\"], treap_insert_only_results, title=\"Treap insert-only performance, time over domains\")\n",
    "plot_throughput_results('domains', [\"treap-sequential\",\"treap-batched\", \"treap-coarse-grained\"], treap_insert_only_results, title=\"Treap insert-only performance, throughput over domains\")\n",
    "df = pd.DataFrame.from_records(treap_insert_only_results, index=\"domains\")\n",
    "df.to_csv(\"treap_insert_only_results.csv\")"
   ]
  },
  {
   "cell_type": "code",
   "execution_count": null,
   "metadata": {},
   "outputs": [],
   "source": [
    "treap_search_only_results = build_results([\"treap-batched\", \"treap-coarse-grained\"], {\n",
    "    'count': 0,\n",
    "    'init_count': 2_000_000,\n",
    "    'no_searches': 1_000_000,\n",
    "    'no_iters':5\n",
    "    }, sequential=\"treap-sequential\", values=domains)\n",
    "\n",
    "plot_results('domains', [\"treap-sequential\",\"treap-batched\", \"treap-coarse-grained\"], treap_search_only_results, title=\"Treap search-only performance, time over domains\")\n",
    "plot_throughput_results('domains', [\"treap-sequential\",\"treap-batched\", \"treap-coarse-grained\"], treap_search_only_results, title=\"Treap search-only performance, throughput over domains\")\n",
    "df = pd.DataFrame.from_records(treap_search_only_results, index=\"domains\")\n",
    "df.to_csv(\"treap_search_only_results.csv\")"
   ]
  },
  {
   "cell_type": "code",
   "execution_count": null,
   "metadata": {},
   "outputs": [],
   "source": [
    "treap_90_10_results = build_results([\"treap-batched\", \"treap-coarse-grained\"], {\n",
    "    'count': 100_000,\n",
    "    'init_count': 2_000_000,\n",
    "    'no_searches': 900_000,\n",
    "    'no_iters':5\n",
    "    }, sequential=\"treap-sequential\", values=domains)\n",
    "\n",
    "plot_results('domains', [\"treap-sequential\",\"treap-batched\", \"treap-coarse-grained\"], treap_90_10_results, title=\"Treap 90/10 searches/inserts performance, time over domains\")\n",
    "plot_throughput_results('domains', [\"treap-sequential\",\"treap-batched\", \"treap-coarse-grained\"], treap_90_10_results, title=\"Treap 90/10 searches/inserts performance, throughput over domains\")\n",
    "df = pd.DataFrame.from_records(treap_90_10_results, index=\"domains\")\n",
    "df.to_csv(\"treap_90_10_results.csv\")"
   ]
  },
  {
   "cell_type": "code",
   "execution_count": null,
   "metadata": {},
   "outputs": [],
   "source": [
    "treap_50_50_results = build_results([\"treap-batched\", \"treap-coarse-grained\"], {\n",
    "    'count': 500_000,\n",
    "    'init_count': 2_000_000,\n",
    "    'no_searches': 500_000,\n",
    "    'no_iters':5\n",
    "    }, sequential=\"treap-sequential\", values=domains)\n",
    "\n",
    "plot_results('domains', [\"treap-sequential\",\"treap-batched\", \"treap-coarse-grained\"], treap_50_50_results, title=\"Treap 50/50 searches/inserts performance, time over domains\")\n",
    "plot_throughput_results('domains', [\"treap-sequential\",\"treap-batched\", \"treap-coarse-grained\"], treap_50_50_results, title=\"Treap 50/50 searches/inserts performance, throughput over domains\")\n",
    "df = pd.DataFrame.from_records(treap_50_50_results, index=\"domains\")\n",
    "df.to_csv(\"treap_50_50_results.csv\")"
   ]
  },
  {
   "cell_type": "markdown",
   "metadata": {},
   "source": [
    "## Expose-repair functor"
   ]
  },
  {
   "cell_type": "code",
   "execution_count": null,
   "metadata": {},
   "outputs": [],
   "source": [
    "veb_insert_only_results = build_results([\"vebtree-batched\", \"vebtree-coarse-grained\"], {\n",
    "    'count': 1_000_000,\n",
    "    'init_count': 2_000_000,\n",
    "    'no_searches': 0,\n",
    "    'no_iters':5\n",
    "    }, sequential=\"vebtree-sequential\", values=domains)\n",
    "\n",
    "plot_results('domains', [\"vebtree-sequential\",\"vebtree-batched\", \"vebtree-coarse-grained\"], veb_insert_only_results, title=\"vEB tree insert-only performance, time over domains\")\n",
    "plot_throughput_results('domains', [\"vebtree-sequential\",\"vebtree-batched\", \"vebtree-coarse-grained\"], veb_insert_only_results, title=\"vEB tree insert-only performance, throughput over domains\")\n",
    "df = pd.DataFrame.from_records(veb_insert_only_results, index=\"domains\")\n",
    "df.to_csv(\"veb_insert_only_results.csv\")"
   ]
  },
  {
   "cell_type": "code",
   "execution_count": null,
   "metadata": {},
   "outputs": [],
   "source": [
    "veb_search_only_results = build_results([\"vebtree-batched\", \"vebtree-coarse-grained\"], {\n",
    "    'count': 0,\n",
    "    'init_count': 2_000_000,\n",
    "    'no_searches': 1_000_000,\n",
    "    'no_iters':5\n",
    "    }, sequential=\"vebtree-sequential\", values=domains)\n",
    "\n",
    "plot_results('domains', [\"vebtree-sequential\",\"vebtree-batched\", \"vebtree-coarse-grained\"], veb_search_only_results, title=\"vEB tree search-only performance, time over domains\")\n",
    "plot_throughput_results('domains', [\"vebtree-sequential\",\"vebtree-batched\", \"vebtree-coarse-grained\"], veb_search_only_results, title=\"vEB tree search-only performance, throughput over domains\")\n",
    "df = pd.DataFrame.from_records(veb_search_only_results, index=\"domains\")\n",
    "df.to_csv(\"veb_search_only_results.csv\")"
   ]
  },
  {
   "cell_type": "code",
   "execution_count": null,
   "metadata": {},
   "outputs": [],
   "source": [
    "veb_90_10_results = build_results([\"vebtree-batched\", \"vebtree-coarse-grained\"], {\n",
    "    'count': 100_000,\n",
    "    'init_count': 2_000_000,\n",
    "    'no_searches': 900_000,\n",
    "    'no_iters':5\n",
    "    }, sequential=\"vebtree-sequential\", values=domains)\n",
    "\n",
    "plot_results('domains', [\"vebtree-sequential\",\"vebtree-batched\", \"vebtree-coarse-grained\"], veb_90_10_results, title=\"vEB tree 90/10 searches/inserts performance, time over domains\")\n",
    "plot_throughput_results('domains', [\"vebtree-sequential\",\"vebtree-batched\", \"vebtree-coarse-grained\"], veb_90_10_results, title=\"vEB tree 90/10 searches/inserts performance, throughput over domains\")\n",
    "df = pd.DataFrame.from_records(veb_90_10_results, index=\"domains\")\n",
    "df.to_csv(\"veb_90_10_results.csv\")"
   ]
  },
  {
   "cell_type": "code",
   "execution_count": null,
   "metadata": {},
   "outputs": [],
   "source": [
    "veb_50_50_results = build_results([\"vebtree-batched\", \"vebtree-coarse-grained\"], {\n",
    "    'count': 500_000,\n",
    "    'init_count': 500_000,\n",
    "    'no_searches': 0,\n",
    "    'no_iters':5\n",
    "    }, sequential=\"vebtree-sequential\", values=domains)\n",
    "\n",
    "plot_results('domains', [\"vebtree-sequential\",\"vebtree-batched\", \"vebtree-coarse-grained\"], veb_50_50_results, title=\"vEB tree 50/50 searches/inserts performance, time over domains\")\n",
    "plot_throughput_results('domains', [\"vebtree-sequential\",\"vebtree-batched\", \"vebtree-coarse-grained\"], veb_50_50_results, title=\"vEB tree 50/50 searches/inserts performance, throughput over domains\")\n",
    "df = pd.DataFrame.from_records(veb_50_50_results, index=\"domains\")\n",
    "df.to_csv(\"veb_50_50_results.csv\")"
   ]
  },
  {
   "cell_type": "markdown",
   "metadata": {},
   "source": [
    "## Xfast trie"
   ]
  },
  {
   "cell_type": "code",
   "execution_count": null,
   "metadata": {},
   "outputs": [],
   "source": [
    "xfast_insert_only_results = build_results([\"xfast-batched\", \"xfast-coarse-grained\"], {\n",
    "    'count': 1_000_000,\n",
    "    'init_count': 2_000_000,\n",
    "    'no_searches': 0,\n",
    "    'no_iters':5\n",
    "    }, sequential=\"xfast-sequential\", values=domains)\n",
    "\n",
    "plot_results('domains', [\"xfast-sequential\",\"xfast-batched\", \"xfast-coarse-grained\"], xfast_insert_only_results, title=\"Xfast trie insert-only performance, time over domains\")\n",
    "plot_throughput_results('domains', [\"xfast-sequential\",\"xfast-batched\", \"xfast-coarse-grained\"], xfast_insert_only_results, title=\"Xfast trie insert-only performance, throughput over domains\")\n",
    "df = pd.DataFrame.from_records(xfast_insert_only_results, index=\"domains\")\n",
    "df.to_csv(\"xfast_insert_only_results.csv\")"
   ]
  },
  {
   "cell_type": "code",
   "execution_count": null,
   "metadata": {},
   "outputs": [],
   "source": [
    "xfast_search_only_results = build_results([\"xfast-batched\", \"xfast-coarse-grained\"], {\n",
    "    'count': 0,\n",
    "    'init_count': 2_000_000,\n",
    "    'no_searches': 1_000_000,\n",
    "    'no_iters':5\n",
    "    }, sequential=\"xfast-sequential\")\n",
    "\n",
    "plot_results('domains', [\"xfast-sequential\",\"xfast-batched\", \"xfast-coarse-grained\"], xfast_search_only_results, title=\"Xfast trie search-only performance, time over domains\")\n",
    "plot_throughput_results('domains', [\"xfast-sequential\",\"xfast-batched\", \"xfast-coarse-grained\"], xfast_search_only_results, title=\"Xfast trie search-only performance, throughput over domains\")\n",
    "df = pd.DataFrame.from_records(xfast_search_only_results, index=\"domains\")\n",
    "df.to_csv(\"xfast_search_only_results.csv\")"
   ]
  },
  {
   "cell_type": "code",
   "execution_count": null,
   "metadata": {},
   "outputs": [],
   "source": [
    "xfast_90_10_results = build_results([\"xfast-batched\", \"xfast-coarse-grained\"], {\n",
    "    'count': 100_000,\n",
    "    'init_count': 2_000_000,\n",
    "    'no_searches': 900_000,\n",
    "    'no_iters':5\n",
    "    }, sequential=\"xfast-sequential\", values=domains)\n",
    "\n",
    "plot_results('domains', [\"xfast-sequential\",\"xfast-batched\", \"xfast-coarse-grained\"], xfast_90_10_results, title=\"Xfast trie 90/10 searches/inserts performance, time over domains\")\n",
    "plot_throughput_results('domains', [\"xfast-sequential\",\"xfast-batched\", \"xfast-coarse-grained\"], xfast_90_10_results, title=\"Xfast trie 90/10 searches/inserts performance, throughput over domains\")\n",
    "df = pd.DataFrame.from_records(xfast_90_10_results, index=\"domains\")\n",
    "df.to_csv(\"xfast_90_10_results.csv\")"
   ]
  },
  {
   "cell_type": "code",
   "execution_count": null,
   "metadata": {},
   "outputs": [],
   "source": [
    "xfast_50_50_results = build_results([\"xfast-batched\", \"xfast-coarse-grained\"], {\n",
    "    'count': 500_000,\n",
    "    'init_count': 2_000_000,\n",
    "    'no_searches': 500_000,\n",
    "    'no_iters':5\n",
    "    }, sequential=\"xfast-sequential\", values=domains)\n",
    "\n",
    "plot_results('domains', [\"xfast-sequential\",\"xfast-batched\", \"xfast-coarse-grained\"], xfast_50_50_results, title=\"Xfast trie 50/50 searches/inserts performance, time over domains\")\n",
    "plot_throughput_results('domains', [\"xfast-sequential\",\"xfast-batched\", \"xfast-coarse-grained\"], xfast_50_50_results, title=\"Xfast trie 50/50 searches/inserts performance, throughput over domains\")\n",
    "df = pd.DataFrame.from_records(xfast_50_50_results, index=\"domains\")\n",
    "df.to_csv(\"xfast_50_50_results.csv\")"
   ]
  },
  {
   "cell_type": "markdown",
   "metadata": {},
   "source": [
    "### Yfast trie"
   ]
  },
  {
   "cell_type": "code",
   "execution_count": null,
   "metadata": {},
   "outputs": [],
   "source": [
    "yfast_insert_only_results = build_results([\"yfast-batched\", \"yfast-coarse-grained\"], {\n",
    "    'count': 1_000_000,\n",
    "    'init_count': 2_000_000,\n",
    "    'no_searches': 0,\n",
    "    'no_iters':5\n",
    "    }, sequential=\"yfast-sequential\", values=domains)\n",
    "\n",
    "plot_results('domains', [\"yfast-sequential\",\"yfast-batched\", \"yfast-coarse-grained\"], yfast_insert_only_results, title=\"yfast trie insert-only performance, time over domains\")\n",
    "plot_throughput_results('domains', [\"yfast-sequential\",\"yfast-batched\", \"yfast-coarse-grained\"], yfast_insert_only_results, title=\"yfast trie insert-only performance, throughput over domains\")\n",
    "df = pd.DataFrame.from_records(yfast_insert_only_results, index=\"domains\")\n",
    "df.to_csv(\"yfast_insert_only_results.csv\")"
   ]
  },
  {
   "cell_type": "code",
   "execution_count": null,
   "metadata": {},
   "outputs": [],
   "source": [
    "yfast_search_only_results = build_results([\"yfast-batched\", \"yfast-coarse-grained\"], {\n",
    "    'count': 0,\n",
    "    'init_count': 2_000_000,\n",
    "    'no_searches': 1_000_000,\n",
    "    'no_iters':5\n",
    "    }, sequential=\"yfast-sequential\", values=domains)\n",
    "\n",
    "plot_results('domains', [\"yfast-sequential\",\"yfast-batched\", \"yfast-coarse-grained\"], yfast_search_only_results, title=\"yfast trie search-only performance, time over domains\")\n",
    "plot_throughput_results('domains', [\"yfast-sequential\",\"yfast-batched\", \"yfast-coarse-grained\"], yfast_search_only_results, title=\"yfast trie search-only performance, throughput over domains\")\n",
    "df = pd.DataFrame.from_records(yfast_search_only_results, index=\"domains\")\n",
    "df.to_csv(\"yfast_search_only_results.csv\")"
   ]
  },
  {
   "cell_type": "code",
   "execution_count": null,
   "metadata": {},
   "outputs": [],
   "source": [
    "yfast_90_10_results = build_results([\"yfast-batched\", \"yfast-coarse-grained\"], {\n",
    "    'count': 100_000,\n",
    "    'init_count': 2_000_000,\n",
    "    'no_searches': 900_000,\n",
    "    'no_iters':5\n",
    "    }, sequential=\"yfast-sequential\", values=domains)\n",
    "\n",
    "plot_results('domains', [\"yfast-sequential\",\"yfast-batched\", \"yfast-coarse-grained\"], yfast_90_10_results, title=\"yfast trie 90/10 searches/inserts performance, time over domains\")\n",
    "plot_throughput_results('domains', [\"yfast-sequential\",\"yfast-batched\", \"yfast-coarse-grained\"], yfast_90_10_results, title=\"yfast trie 90/10 searches/inserts performance, throughput over domains\")\n",
    "df = pd.DataFrame.from_records(yfast_90_10_results, index=\"domains\")\n",
    "df.to_csv(\"yfast_90_10_results.csv\")"
   ]
  },
  {
   "cell_type": "code",
   "execution_count": null,
   "metadata": {},
   "outputs": [],
   "source": [
    "yfast_50_50_results = build_results([\"yfast-batched\", \"yfast-coarse-grained\"], {\n",
    "    'count': 500_000,\n",
    "    'init_count': 2_000_000,\n",
    "    'no_searches': 500_000,\n",
    "    'no_iters':5\n",
    "    }, sequential=\"yfast-sequential\", values=domains)\n",
    "\n",
    "plot_results('domains', [\"yfast-sequential\",\"yfast-batched\", \"yfast-coarse-grained\"], yfast_50_50_results, title=\"yfast trie 50/50 searches/inserts performance, time over domains\")\n",
    "plot_throughput_results('domains', [\"yfast-sequential\",\"yfast-batched\", \"yfast-coarse-grained\"], yfast_50_50_results, title=\"yfast trie 50/50 searches/inserts performance, throughput over domains\")\n",
    "df = pd.DataFrame.from_records(yfast_50_50_results, index=\"domains\")\n",
    "df.to_csv(\"yfast_50_50_results.csv\")"
   ]
  },
  {
   "cell_type": "markdown",
   "metadata": {},
   "source": [
    "## Ad-hoc data structures"
   ]
  },
  {
   "cell_type": "markdown",
   "metadata": {},
   "source": [
    "### Skiplist"
   ]
  },
  {
   "cell_type": "code",
   "execution_count": null,
   "metadata": {},
   "outputs": [],
   "source": [
    "skiplist_insert_only_results = build_results([\"skiplist-batched\", \"skiplist-fine-grained\", \"skiplist-coarse-grained\"], {\n",
    "    'count': 1_000_000,\n",
    "    'init_count': 2_000_000,\n",
    "    'no_searches': 0,\n",
    "    'no_iters':5\n",
    "    }, sequential=\"skiplist-sequential\", values=domains)\n",
    "\n",
    "plot_results('domains', [\"skiplist-sequential\",\"skiplist-batched\", \"skiplist-fine-grained\", \"skiplist-coarse-grained\"], skiplist_insert_only_results, title=\"skiplist insert-only performance, time over domains\")\n",
    "plot_throughput_results('domains', [\"skiplist-sequential\",\"skiplist-batched\", \"skiplist-fine-grained\", \"skiplist-coarse-grained\"], skiplist_insert_only_results, title=\"skiplist insert-only performance, throughput over domains\")\n",
    "df = pd.DataFrame.from_records(skiplist_insert_only_results, index=\"domains\")\n",
    "df.to_csv(\"skiplist_insert_only_results.csv\")"
   ]
  },
  {
   "cell_type": "code",
   "execution_count": null,
   "metadata": {},
   "outputs": [],
   "source": [
    "skiplist_search_only_results = build_results([\"skiplist-batched\", \"skiplist-fine-grained\", \"skiplist-coarse-grained\"], {\n",
    "    'count': 0,\n",
    "    'init_count': 2_000_000,\n",
    "    'no_searches': 1_000_000,\n",
    "    'no_iters':5\n",
    "    }, sequential=\"skiplist-sequential\", values=domains)\n",
    "\n",
    "plot_results('domains', [\"skiplist-sequential\",\"skiplist-batched\", \"skiplist-fine-grained\", \"skiplist-coarse-grained\"], skiplist_search_only_results, title=\"skiplist search-only performance, time over domains\")\n",
    "plot_throughput_results('domains', [\"skiplist-sequential\",\"skiplist-batched\", \"skiplist-fine-grained\", \"skiplist-coarse-grained\"], skiplist_search_only_results, title=\"skiplist search-only performance, throughput over domains\")\n",
    "df = pd.DataFrame.from_records(skiplist_search_only_results, index=\"domains\")\n",
    "df.to_csv(\"skiplist_search_only_results.csv\")"
   ]
  },
  {
   "cell_type": "code",
   "execution_count": null,
   "metadata": {},
   "outputs": [],
   "source": [
    "skiplist_50_50_results = build_results([\"skiplist-batched\", \"skiplist-fine-grained\", \"skiplist-coarse-grained\"], {\n",
    "    'count': 500_000,\n",
    "    'init_count': 2_000_000,\n",
    "    'no_searches': 500_000,\n",
    "    'no_iters':5\n",
    "    }, sequential=\"skiplist-sequential\", values=domains)\n",
    "\n",
    "plot_results('domains', [\"skiplist-sequential\",\"skiplist-batched\",\"skiplist-fine-grained\",  \"skiplist-coarse-grained\"], skiplist_50_50_results, title=\"skiplist 50/50 searches/inserts performance, time over domains\")\n",
    "plot_throughput_results('domains', [\"skiplist-sequential\",\"skiplist-batched\", \"skiplist-fine-grained\", \"skiplist-coarse-grained\"], skiplist_50_50_results, title=\"skiplist 50/50 searches/inserts performance, throughput over domains\")\n",
    "df = pd.DataFrame.from_records(skiplist_50_50_results, index=\"domains\")\n",
    "df.to_csv(\"skiplist_50_50_results.csv\")"
   ]
  },
  {
   "cell_type": "code",
   "execution_count": null,
   "metadata": {},
   "outputs": [],
   "source": [
    "skiplist_90_10_results = build_results([\"skiplist-batched\", \"skiplist-fine-grained\", \"skiplist-coarse-grained\"], {\n",
    "    'count': 100_000,\n",
    "    'init_count': 2_000_000,\n",
    "    'no_searches': 900_000,\n",
    "    'no_iters':5\n",
    "    }, sequential=\"skiplist-sequential\", values=domains)\n",
    "\n",
    "plot_results('domains', [\"skiplist-sequential\",\"skiplist-batched\", \"skiplist-fine-grained\", \"skiplist-coarse-grained\"], skiplist_90_10_results, title=\"skiplist 90/10 searches/inserts performance, time over domains\")\n",
    "plot_throughput_results('domains', [\"skiplist-sequential\",\"skiplist-batched\", \"skiplist-fine-grained\", \"skiplist-coarse-grained\"], skiplist_90_10_results, title=\"skiplist 90/10 searches/inserts performance, throughput over domains\")\n",
    "df = pd.DataFrame.from_records(skiplist_90_10_results, index=\"domains\")\n",
    "df.to_csv(\"skiplist_90_10_results.csv\")"
   ]
  },
  {
   "cell_type": "markdown",
   "metadata": {},
   "source": [
    "### B-tree"
   ]
  },
  {
   "cell_type": "code",
   "execution_count": null,
   "metadata": {},
   "outputs": [],
   "source": [
    "btree_insert_only_results = build_results([\"btree-batched\", \"btree-coarse-grained\"], {\n",
    "    'count': 1_000_000,\n",
    "    'init_count': 2_000_000,\n",
    "    'no_searches': 0,\n",
    "    'no_iters':5\n",
    "    }, sequential=\"btree-sequential\", values=domains)\n",
    "\n",
    "plot_results('domains', [\"btree-sequential\",\"btree-batched\", \"btree-coarse-grained\"], btree_insert_only_results, title=\"btree insert-only performance, time over domains\")\n",
    "plot_throughput_results('domains', [\"btree-sequential\",\"btree-batched\", \"btree-coarse-grained\"], btree_insert_only_results, title=\"btree insert-only performance, throughput over domains\")\n",
    "df = pd.DataFrame.from_records(btree_insert_only_results, index=\"domains\")\n",
    "df.to_csv(\"btree_insert_only_results.csv\")"
   ]
  },
  {
   "cell_type": "code",
   "execution_count": null,
   "metadata": {},
   "outputs": [],
   "source": [
    "btree_search_only_results = build_results([\"btree-batched\", \"btree-coarse-grained\"], {\n",
    "    'count': 0,\n",
    "    'init_count': 2_000_000,\n",
    "    'no_searches': 1_000_000,\n",
    "    'no_iters':5\n",
    "    }, sequential=\"btree-sequential\", values=domains)\n",
    "\n",
    "plot_results('domains', [\"btree-sequential\",\"btree-batched\", \"btree-coarse-grained\"], btree_search_only_results, title=\"btree trie search-only performance, time over domains\")\n",
    "plot_throughput_results('domains', [\"btree-sequential\",\"btree-batched\", \"btree-coarse-grained\"], btree_search_only_results, title=\"btree trie search-only performance, throughput over domains\")\n",
    "df = pd.DataFrame.from_records(btree_search_only_results, index=\"domains\")\n",
    "df.to_csv(\"btree_search_only_results.csv\")"
   ]
  },
  {
   "cell_type": "code",
   "execution_count": null,
   "metadata": {},
   "outputs": [],
   "source": [
    "btree_50_50_results = build_results([\"btree-batched\", \"btree-coarse-grained\"], {\n",
    "    'count': 500_000,\n",
    "    'init_count': 2_000_000,\n",
    "    'no_searches': 500_000,\n",
    "    'no_iters':5\n",
    "    }, sequential=\"btree-sequential\", values=domains)\n",
    "\n",
    "plot_results('domains', [\"btree-sequential\",\"btree-batched\", \"btree-coarse-grained\"], btree_50_50_results, title=\"btree 50/50 searches/inserts performance, time over domains\")\n",
    "plot_throughput_results('domains', [\"btree-sequential\",\"btree-batched\", \"btree-coarse-grained\"], btree_50_50_results, title=\"btree 50/50 searches/inserts performance, throughput over domains\")\n",
    "df = pd.DataFrame.from_records(btree_50_50_results, index=\"domains\")\n",
    "df.to_csv(\"btree_50_50_results.csv\")"
   ]
  },
  {
   "cell_type": "code",
   "execution_count": null,
   "metadata": {},
   "outputs": [],
   "source": [
    "btree_90_10_results = build_results([\"btree-batched\", \"btree-coarse-grained\"], {\n",
    "    'count': 100_000,\n",
    "    'init_count': 2_000_000,\n",
    "    'no_searches': 900_000,\n",
    "    'no_iters':5\n",
    "    }, sequential=\"btree-sequential\", values=domains)\n",
    "\n",
    "plot_results('domains', [\"btree-sequential\",\"btree-batched\", \"btree-coarse-grained\"], btree_90_10_results, title=\"btree 90/10 searches/inserts performance, time over domains\")\n",
    "plot_throughput_results('domains', [\"btree-sequential\",\"btree-batched\", \"btree-coarse-grained\"], btree_90_10_results, title=\"btree 90/10 searches/inserts performance, throughput over domains\")\n",
    "df = pd.DataFrame.from_records(btree_90_10_results, index=\"domains\")\n",
    "df.to_csv(\"btree_90_10_results.csv\")"
   ]
  },
  {
   "cell_type": "markdown",
   "metadata": {},
   "source": [
    "### Datalog"
   ]
  },
  {
   "cell_type": "code",
   "execution_count": null,
   "metadata": {},
   "outputs": [],
   "source": [
    "datalog_results = build_results([\"datalog-batched\", \"datalog-coarse\", \"datalog-non-parallel-batched\"], {\n",
    "    'count': 5_000,\n",
    "    'init_count': 30_000,\n",
    "    'no_searches': 45_000,\n",
    "    'graph_nodes': 200,\n",
    "    'no_iters':5\n",
    "    }, sequential=\"datalog-sequential\", values=domains)\n",
    "\n",
    "plot_results('domains', [\"datalog-sequential\",\"datalog-batched\", \"datalog-coarse\", \"datalog-non-parallel-batched\"], datalog_results, title=\"datalog 90/10 query/inserts performance, time over domains\")\n",
    "plot_throughput_results('domains', [\"datalog-sequential\",\"datalog-batched\", \"datalog-coarse\", \"datalog-non-parallel-batched\"], datalog_results, title=\"datalog 90/10 query/inserts performance, throughput over domains\")\n",
    "df = pd.DataFrame.from_records(datalog_results, index=\"domains\")\n",
    "df.to_csv(\"datalog_results.csv\")"
   ]
  }
 ],
 "metadata": {
  "kernelspec": {
   "display_name": "venv",
   "language": "python",
   "name": "python3"
  },
  "language_info": {
   "codemirror_mode": {
    "name": "ipython",
    "version": 3
   },
   "file_extension": ".py",
   "mimetype": "text/x-python",
   "name": "python",
   "nbconvert_exporter": "python",
   "pygments_lexer": "ipython3",
   "version": "3.10.12"
  }
 },
 "nbformat": 4,
 "nbformat_minor": 2
}
